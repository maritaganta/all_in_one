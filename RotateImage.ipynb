{
  "nbformat": 4,
  "nbformat_minor": 0,
  "metadata": {
    "colab": {
      "provenance": []
    },
    "kernelspec": {
      "name": "python3",
      "display_name": "Python 3"
    },
    "language_info": {
      "name": "python"
    }
  },
  "cells": [
    {
      "cell_type": "code",
      "execution_count": 11,
      "metadata": {
        "id": "B-A-ky2RbKH6"
      },
      "outputs": [],
      "source": [
        "import cv2\n",
        "import numpy as np\n",
        "from google.colab.patches import cv2_imshow"
      ]
    },
    {
      "cell_type": "code",
      "source": [
        "def calculate_slope(point1, point2):\n",
        "    # Calculate the slope between two points\n",
        "    delta_y = point2[1] - point1[1]\n",
        "    delta_x = point2[0] - point1[0]\n",
        "\n",
        "    # Avoid division by zero\n",
        "    if delta_x != 0:\n",
        "        slope = delta_y / delta_x\n",
        "    else:\n",
        "        slope = np.inf\n",
        "\n",
        "    return slope\n",
        "\n",
        "def calculate_rotation_angle(point1, point2):\n",
        "    # Calculate the angle between the line connecting the two points and the horizontal axis\n",
        "    delta_y = point2[1] - point1[1]\n",
        "    delta_x = point2[0] - point1[0]\n",
        "\n",
        "    # Calculate the angle using arctan\n",
        "    angle = np.arctan(delta_y, delta_x)\n",
        "\n",
        "    return angle\n",
        "\n",
        "def rotate_image(image, angle, center):\n",
        "\n",
        "    # Get the rotation matrix\n",
        "    rotation_matrix = cv2.getRotationMatrix2D(center, angle, 1.0)\n",
        "\n",
        "    # Perform the rotation\n",
        "    rotated_image = cv2.warpAffine(image, rotation_matrix, (image.shape[1], image.shape[0]))\n",
        "\n",
        "    return rotated_image"
      ],
      "metadata": {
        "id": "Ggbj5NOHbRgV"
      },
      "execution_count": 12,
      "outputs": []
    },
    {
      "cell_type": "code",
      "source": [
        "# Create a NumPy array filled with zeros of shape (600, 600)\n",
        "image = np.zeros((400, 400))\n",
        "\n",
        "# Define the two points in pixel coordinates\n",
        "point1 = (100, 200)  # Example point 1\n",
        "point2 = (300, 100)  # Example point 2\n",
        "\n",
        "# Draw a white line on the image from point 1 to point 2\n",
        "color = (255, 255, 255)  # White color\n",
        "thickness = 2  # Line thickness\n",
        "image_with_line = cv2.line(image, point1, point2, color, thickness)\n",
        "\n",
        "# Display the original image\n",
        "cv2_imshow(image)"
      ],
      "metadata": {
        "colab": {
          "base_uri": "https://localhost:8080/",
          "height": 417
        },
        "id": "L2tgl3HvbS7v",
        "outputId": "8b753aff-dcb7-4f35-fbb5-c41f9ddd6453"
      },
      "execution_count": 14,
      "outputs": [
        {
          "output_type": "display_data",
          "data": {
            "text/plain": [
              "<PIL.Image.Image image mode=L size=400x400>"
            ],
            "image/png": "[encoded data removed]"
          },
          "metadata": {}
        }
      ]
    },
    {
      "cell_type": "code",
      "source": [
        "# Calculate the slope between the two points\n",
        "slope = calculate_slope(point1, point2)\n",
        "\n",
        "# Calculate the angle to rotate the image so that the line becomes horizontal\n",
        "angle = np.arctan(slope)\n",
        "\n",
        "# Turn to degrees\n",
        "angle = np.degrees(angle)\n",
        "\n",
        "center = (image.shape[1] // 2, image.shape[0] // 2)\n",
        "\n",
        "# Rotate the image\n",
        "rotated_image = rotate_image(image, angle, center)\n",
        "\n",
        "# Display the rotated image\n",
        "cv2_imshow(rotated_image)"
      ],
      "metadata": {
        "colab": {
          "base_uri": "https://localhost:8080/",
          "height": 417
        },
        "id": "WWYCyFu0bS_m",
        "outputId": "57819def-a576-411c-ec80-7142ac527dfc"
      },
      "execution_count": 16,
      "outputs": [
        {
          "output_type": "display_data",
          "data": {
            "text/plain": [
              "<PIL.Image.Image image mode=L size=400x400>"
            ],
            "image/png": "[encoded data removed]"
          },
          "metadata": {}
        }
      ]
    },
    {
      "cell_type": "code",
      "source": [],
      "metadata": {
        "id": "nGzRuR4bdupg"
      },
      "execution_count": null,
      "outputs": []
    }
  ]
}